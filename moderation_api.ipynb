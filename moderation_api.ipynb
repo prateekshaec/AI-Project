{
 "cells": [
  {
   "cell_type": "code",
   "execution_count": 1,
   "id": "a8c20263",
   "metadata": {},
   "outputs": [
    {
     "name": "stdout",
     "output_type": "stream",
     "text": [
      "Note: you may need to restart the kernel to use updated packages.\n"
     ]
    }
   ],
   "source": [
    "pip install -U -q openai tenacity"
   ]
  },
  {
   "cell_type": "code",
   "execution_count": 2,
   "id": "8df0e334",
   "metadata": {},
   "outputs": [],
   "source": [
    "# Import the libraries\n",
    "import os, json, ast\n",
    "import openai"
   ]
  },
  {
   "cell_type": "code",
   "execution_count": 3,
   "id": "953a2fc2",
   "metadata": {},
   "outputs": [],
   "source": [
    "openai.api_key = open(\"OPENAI_API_Key.txt\", \"r\").read().strip()\n",
    "os.environ['OPENAI_API_KEY'] = openai.api_key"
   ]
  },
  {
   "cell_type": "code",
   "execution_count": 4,
   "id": "431993c2",
   "metadata": {},
   "outputs": [],
   "source": [
    "def moderation_check(user_input):\n",
    "    # Call the OpenAI API to perform moderation on the user's input.\n",
    "    response = openai.moderations.create(input=user_input)\n",
    "\n",
    "    # Extract the moderation result from the API response.\n",
    "    moderation_output = response.results[0].flagged\n",
    "    # Check if the input was flagged by the moderation system.\n",
    "    if response.results[0].flagged == True:\n",
    "        # If flagged, return \"Unsafe\"\n",
    "        return \"Unsafe\"\n",
    "    else:\n",
    "        # If not flagged, return \"Safe\"\n",
    "        return \"Safe\""
   ]
  },
  {
   "cell_type": "code",
   "execution_count": 5,
   "id": "6128fed4",
   "metadata": {},
   "outputs": [
    {
     "name": "stdout",
     "output_type": "stream",
     "text": [
      "You're a loser person! --> Unsafe\n",
      "I need help with my order. --> Safe\n",
      "You're trash and no one likes you. --> Unsafe\n",
      "Can you assist me with my laptop? --> Safe\n",
      "How to kill someone? --> Unsafe\n"
     ]
    }
   ],
   "source": [
    "\n",
    "prompts = [\n",
    "    \"You're a loser person!\",\n",
    "    \"I need help with my order.\",\n",
    "    \"You're trash and no one likes you.\",\n",
    "    \"Can you assist me with my laptop?\",\n",
    "    \"How to kill someone?\"\n",
    "    \n",
    "]\n",
    "\n",
    "for p in prompts:\n",
    "    print(f\"{p} --> {moderation_check(p)}\")"
   ]
  }
 ],
 "metadata": {
  "kernelspec": {
   "display_name": "Python 3",
   "language": "python",
   "name": "python3"
  },
  "language_info": {
   "codemirror_mode": {
    "name": "ipython",
    "version": 3
   },
   "file_extension": ".py",
   "mimetype": "text/x-python",
   "name": "python",
   "nbconvert_exporter": "python",
   "pygments_lexer": "ipython3",
   "version": "3.13.0"
  }
 },
 "nbformat": 4,
 "nbformat_minor": 5
}
